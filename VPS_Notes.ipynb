{
 "cells": [
  {
   "cell_type": "markdown",
   "metadata": {},
   "source": [
    "# Camera based positioning system for the CCOM/JHC and OE engineering test tank.\n",
    "\n",
    "Exploring the idea of using a camera to track small (RC boat sized) autonomous vessels in the test tank.\n",
    "\n",
    "## Existing technologies\n",
    "\n",
    "OpenCV: https://opencv.org/\n",
    "\n",
    "ArUco: https://www.uco.es/investiga/grupos/ava/node/26\n",
    "\n",
    "OpenCV does contain an implementation of the ArUco decoding library.\n",
    "\n",
    "## Test tank\n",
    "\n",
    "According to  http://ccom.unh.edu/facilities/test-tanks/engineering-tank, the tank size is 60 by 40 feet."
   ]
  },
  {
   "cell_type": "code",
   "execution_count": 1,
   "metadata": {
    "collapsed": false
   },
   "outputs": [
    {
     "name": "stdout",
     "output_type": "stream",
     "text": [
      "(18.288, 12.192)\n"
     ]
    }
   ],
   "source": [
    "tank_size_feet = (60,40)\n",
    "tank_size_meters = tuple(x*0.3048 for x in tank_size_feet)\n",
    "print tank_size_meters"
   ]
  },
  {
   "cell_type": "markdown",
   "metadata": {},
   "source": [
    "## ArUco markers\n",
    "\n",
    "For testing, the ArUco DICT_7X7_50 dictionary was chosen. It was chosen due to it's larger number of bits (7x7) versus the number of markers in the dictionary (50) which is supposed to help supress errors.\n",
    "\n",
    "Quick testing seems to suggest that markers should span at least 20 pixels in order to be reliably detected."
   ]
  },
  {
   "cell_type": "code",
   "execution_count": 2,
   "metadata": {
    "collapsed": true
   },
   "outputs": [],
   "source": [
    "marker_size_pixels = 20"
   ]
  },
  {
   "cell_type": "markdown",
   "metadata": {},
   "source": [
    "The marker is to be placed on top of a floating target, facing the ceiling with a camera looking down over the tank from the ceilng.\n",
    "\n",
    "### Marker sizes\n",
    "\n",
    "Let's explore various sizes ranging from 30 centimeters to 10 centimeters."
   ]
  },
  {
   "cell_type": "code",
   "execution_count": 3,
   "metadata": {
    "collapsed": true
   },
   "outputs": [],
   "source": [
    "marker_sizes_meters = (.3,.2,.1)"
   ]
  },
  {
   "cell_type": "markdown",
   "metadata": {},
   "source": [
    "Minimal resolution necessary to reliably resolve markers:"
   ]
  },
  {
   "cell_type": "code",
   "execution_count": 4,
   "metadata": {
    "collapsed": false
   },
   "outputs": [
    {
     "name": "stdout",
     "output_type": "stream",
     "text": [
      "marker size: 0.3 meters, pixel size: 0.015 meters, resolution: (1220, 813)\n",
      "marker size: 0.2 meters, pixel size: 0.01 meters, resolution: (1829, 1220)\n",
      "marker size: 0.1 meters, pixel size: 0.005 meters, resolution: (3658, 2439)\n"
     ]
    }
   ],
   "source": [
    "import math\n",
    "\n",
    "for msize in marker_sizes_meters:\n",
    "    pixel_size = msize/marker_size_pixels\n",
    "    resolution = tuple(int(math.ceil(x/pixel_size)) for x in tank_size_meters)\n",
    "    print 'marker size:',msize,'meters, pixel size:',pixel_size,'meters, resolution:',resolution"
   ]
  },
  {
   "cell_type": "markdown",
   "metadata": {},
   "source": [
    "## Camera geometry\n",
    "\n",
    "Distance from top edge of tank to ceiling supports is 14' 5\"."
   ]
  },
  {
   "cell_type": "code",
   "execution_count": 5,
   "metadata": {
    "collapsed": false
   },
   "outputs": [
    {
     "name": "stdout",
     "output_type": "stream",
     "text": [
      "4.3942 meters\n"
     ]
    }
   ],
   "source": [
    "camera_distance_meters = (14+(5/12.0))*0.3048\n",
    "print camera_distance_meters, 'meters'"
   ]
  },
  {
   "cell_type": "code",
   "execution_count": 6,
   "metadata": {
    "collapsed": false
   },
   "outputs": [
    {
     "name": "stdout",
     "output_type": "stream",
     "text": [
      "(128.6662586875929, 108.42935981879275)\n"
     ]
    }
   ],
   "source": [
    "field_of_view_degrees = tuple((180/math.pi)*2*math.atan(x/(2*camera_distance_meters)) for x in tank_size_meters)\n",
    "print field_of_view_degrees"
   ]
  },
  {
   "cell_type": "code",
   "execution_count": null,
   "metadata": {
    "collapsed": true
   },
   "outputs": [],
   "source": []
  }
 ],
 "metadata": {
  "kernelspec": {
   "display_name": "Python 2",
   "language": "python",
   "name": "python2"
  },
  "language_info": {
   "codemirror_mode": {
    "name": "ipython",
    "version": 2
   },
   "file_extension": ".py",
   "mimetype": "text/x-python",
   "name": "python",
   "nbconvert_exporter": "python",
   "pygments_lexer": "ipython2",
   "version": "2.7.13"
  }
 },
 "nbformat": 4,
 "nbformat_minor": 2
}
