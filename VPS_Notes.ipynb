{
 "cells": [
  {
   "cell_type": "markdown",
   "metadata": {},
   "source": [
    "# Camera based positioning system for the CCOM/JHC and OE engineering test tank.\n",
    "\n",
    "Exploring the idea of using a camera to track small (RC boat sized) autonomous vessels in the test tank.\n",
    "\n",
    "## Existing technologies\n",
    "\n",
    "OpenCV: https://opencv.org/\n",
    "\n",
    "ArUco: https://www.uco.es/investiga/grupos/ava/node/26\n",
    "\n",
    "OpenCV does contain an implementation of the ArUco decoding library.\n",
    "\n",
    "## Test tank\n",
    "\n",
    "According to  http://ccom.unh.edu/facilities/test-tanks/engineering-tank, the tank size is 60 by 40 feet."
   ]
  },
  {
   "cell_type": "code",
   "execution_count": 1,
   "metadata": {
    "collapsed": false
   },
   "outputs": [
    {
     "name": "stdout",
     "output_type": "stream",
     "text": [
      "(18.288, 12.192)\n"
     ]
    }
   ],
   "source": [
    "tank_size_feet = (60,40)\n",
    "tank_size_meters = tuple(x*0.3048 for x in tank_size_feet)\n",
    "print tank_size_meters"
   ]
  },
  {
   "cell_type": "markdown",
   "metadata": {},
   "source": [
    "## ArUco markers\n",
    "\n",
    "For testing, the ArUco DICT_7X7_50 dictionary was chosen. It was chosen due to it's larger number of bits (7x7) versus the number of markers in the dictionary (50) which is supposed to help supress errors.\n",
    "\n",
    "Quick testing seems to suggest that markers should span at least 20 pixels in order to be reliably detected."
   ]
  },
  {
   "cell_type": "code",
   "execution_count": 2,
   "metadata": {
    "collapsed": true
   },
   "outputs": [],
   "source": [
    "marker_size_pixels = 20"
   ]
  },
  {
   "cell_type": "markdown",
   "metadata": {},
   "source": [
    "The marker is to be placed on top of a floating target, facing the ceiling with a camera looking down over the tank from the ceilng.\n",
    "\n",
    "### Example ArUco marker\n",
    "\n",
    "![Example ArUco marker](markers/aruco_7x7_50_00.png)\n",
    "\n",
    "\n",
    "### Marker sizes\n",
    "\n",
    "Let's explore various sizes ranging from 30 centimeters to 10 centimeters."
   ]
  },
  {
   "cell_type": "code",
   "execution_count": 3,
   "metadata": {
    "collapsed": true
   },
   "outputs": [],
   "source": [
    "marker_sizes_meters = (.3,.2,.1,.05)"
   ]
  },
  {
   "cell_type": "markdown",
   "metadata": {},
   "source": [
    "Minimal resolution necessary to reliably resolve markers:"
   ]
  },
  {
   "cell_type": "code",
   "execution_count": 4,
   "metadata": {
    "collapsed": false
   },
   "outputs": [
    {
     "name": "stdout",
     "output_type": "stream",
     "text": [
      "marker size: 0.3 meters, pixel size: 0.015 meters, resolution: (1220, 813) pixels\n",
      "marker size: 0.2 meters, pixel size: 0.01 meters, resolution: (1829, 1220) pixels\n",
      "marker size: 0.1 meters, pixel size: 0.005 meters, resolution: (3658, 2439) pixels\n",
      "marker size: 0.05 meters, pixel size: 0.0025 meters, resolution: (7316, 4877) pixels\n"
     ]
    }
   ],
   "source": [
    "import math\n",
    "\n",
    "for msize in marker_sizes_meters:\n",
    "    pixel_size = msize/marker_size_pixels\n",
    "    resolution = tuple(int(math.ceil(x/pixel_size)) for x in tank_size_meters)\n",
    "    print 'marker size:',msize,'meters, pixel size:',pixel_size,'meters, resolution:',resolution,'pixels'"
   ]
  },
  {
   "cell_type": "markdown",
   "metadata": {},
   "source": [
    "## Camera geometry\n",
    "\n",
    "Distance from top edge of tank to ceiling supports is 14' 5\"."
   ]
  },
  {
   "cell_type": "code",
   "execution_count": 5,
   "metadata": {
    "collapsed": false
   },
   "outputs": [
    {
     "name": "stdout",
     "output_type": "stream",
     "text": [
      "4.3942 meters\n"
     ]
    }
   ],
   "source": [
    "camera_distance_meters = (14+(5/12.0))*0.3048\n",
    "print camera_distance_meters, 'meters'"
   ]
  },
  {
   "cell_type": "code",
   "execution_count": 6,
   "metadata": {
    "collapsed": false
   },
   "outputs": [
    {
     "name": "stdout",
     "output_type": "stream",
     "text": [
      "(128.6662586875929, 108.42935981879275) degrees\n"
     ]
    }
   ],
   "source": [
    "field_of_view_degrees = tuple((180/math.pi)*2*math.atan(x/(2*camera_distance_meters)) for x in tank_size_meters)\n",
    "print field_of_view_degrees,'degrees'"
   ]
  },
  {
   "cell_type": "markdown",
   "metadata": {
    "collapsed": true
   },
   "source": [
    "### Two camera system\n",
    "Two cameras independantly monitoring half the tank. Markers would get extracted separately instead of trying to merge the two images. Fixed markers on the tank edges where the images overlap could be used to fix the frames of reference of each camera."
   ]
  },
  {
   "cell_type": "code",
   "execution_count": 7,
   "metadata": {
    "collapsed": false
   },
   "outputs": [
    {
     "name": "stdout",
     "output_type": "stream",
     "text": [
      "(12.192, 9.144) meters\n"
     ]
    }
   ],
   "source": [
    "half_tank_size_meters = (tank_size_meters[1],tank_size_meters[0]/2.0)\n",
    "print half_tank_size_meters,'meters'"
   ]
  },
  {
   "cell_type": "markdown",
   "metadata": {},
   "source": [
    "Field of view calculations:"
   ]
  },
  {
   "cell_type": "code",
   "execution_count": 8,
   "metadata": {
    "collapsed": false
   },
   "outputs": [
    {
     "name": "stdout",
     "output_type": "stream",
     "text": [
      "(108.42935981879275, 92.27205607937618) degrees\n"
     ]
    }
   ],
   "source": [
    "half_fov_degrees = tuple((180/math.pi)*2*math.atan(x/(2*camera_distance_meters)) for x in half_tank_size_meters)\n",
    "print half_fov_degrees,'degrees'"
   ]
  },
  {
   "cell_type": "markdown",
   "metadata": {},
   "source": [
    "Resolution calculations:"
   ]
  },
  {
   "cell_type": "code",
   "execution_count": 9,
   "metadata": {
    "collapsed": false
   },
   "outputs": [
    {
     "name": "stdout",
     "output_type": "stream",
     "text": [
      "marker size: 0.3 meters, pixel size: 0.015 meters, resolution: (813, 610) pixels\n",
      "marker size: 0.2 meters, pixel size: 0.01 meters, resolution: (1220, 915) pixels\n",
      "marker size: 0.1 meters, pixel size: 0.005 meters, resolution: (2439, 1829) pixels\n",
      "marker size: 0.05 meters, pixel size: 0.0025 meters, resolution: (4877, 3658) pixels\n"
     ]
    }
   ],
   "source": [
    "for msize in marker_sizes_meters:\n",
    "    pixel_size = msize/marker_size_pixels\n",
    "    half_resolution = tuple(int(math.ceil(x/pixel_size)) for x in half_tank_size_meters)\n",
    "    print 'marker size:',msize,'meters, pixel size:',pixel_size,'meters, resolution:',half_resolution,'pixels'"
   ]
  },
  {
   "cell_type": "markdown",
   "metadata": {},
   "source": [
    "### Four camera system\n",
    "Similar to two camera system, but spliting the tank into four quadrants."
   ]
  },
  {
   "cell_type": "code",
   "execution_count": 10,
   "metadata": {
    "collapsed": false
   },
   "outputs": [
    {
     "name": "stdout",
     "output_type": "stream",
     "text": [
      "(9.144, 6.096) meters\n"
     ]
    }
   ],
   "source": [
    "quarter_tank_size_meters = (half_tank_size_meters[1],half_tank_size_meters[0]/2.0)\n",
    "print quarter_tank_size_meters,'meters'"
   ]
  },
  {
   "cell_type": "code",
   "execution_count": 11,
   "metadata": {
    "collapsed": false
   },
   "outputs": [
    {
     "name": "stdout",
     "output_type": "stream",
     "text": [
      "(92.27205607937618, 69.49357368428157) degrees\n"
     ]
    }
   ],
   "source": [
    "quarter_fov_degs = tuple((180/math.pi)*2*math.atan(x/(2*camera_distance_meters)) for x in quarter_tank_size_meters)\n",
    "print quarter_fov_degs, 'degrees'"
   ]
  },
  {
   "cell_type": "code",
   "execution_count": 12,
   "metadata": {
    "collapsed": false
   },
   "outputs": [
    {
     "name": "stdout",
     "output_type": "stream",
     "text": [
      "marker size: 0.3 meters, pixel size: 0.015 meters, resolution: (610, 407) pixels\n",
      "marker size: 0.2 meters, pixel size: 0.01 meters, resolution: (915, 610) pixels\n",
      "marker size: 0.1 meters, pixel size: 0.005 meters, resolution: (1829, 1220) pixels\n",
      "marker size: 0.05 meters, pixel size: 0.0025 meters, resolution: (3658, 2439) pixels\n"
     ]
    }
   ],
   "source": [
    "for msize in marker_sizes_meters:\n",
    "    pixel_size = msize/marker_size_pixels\n",
    "    quarter_resolution = tuple(int(math.ceil(x/pixel_size)) for x in quarter_tank_size_meters)\n",
    "    print 'marker size:',msize,'meters, pixel size:',pixel_size,'meters, resolution:',quarter_resolution,'pixels'"
   ]
  },
  {
   "cell_type": "markdown",
   "metadata": {},
   "source": [
    "## Warning\n",
    "\n",
    "The above calculations are theoretical limits. They do not take into account overlap between the sections and with the tank edges. For practical puposes, cameras should be over-speced to account for overlap and inprecision in installation location and orientation."
   ]
  },
  {
   "cell_type": "code",
   "execution_count": null,
   "metadata": {
    "collapsed": true
   },
   "outputs": [],
   "source": []
  }
 ],
 "metadata": {
  "kernelspec": {
   "display_name": "Python 2",
   "language": "python",
   "name": "python2"
  },
  "language_info": {
   "codemirror_mode": {
    "name": "ipython",
    "version": 2
   },
   "file_extension": ".py",
   "mimetype": "text/x-python",
   "name": "python",
   "nbconvert_exporter": "python",
   "pygments_lexer": "ipython2",
   "version": "2.7.13"
  }
 },
 "nbformat": 4,
 "nbformat_minor": 2
}
